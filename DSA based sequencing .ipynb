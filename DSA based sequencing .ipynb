{
 "cells": [
  {
   "cell_type": "code",
   "execution_count": 1,
   "id": "26c6311d",
   "metadata": {},
   "outputs": [],
   "source": [
    "from Bio import SeqIO"
   ]
  },
  {
   "cell_type": "code",
   "execution_count": 2,
   "id": "39cf3c72",
   "metadata": {},
   "outputs": [],
   "source": [
    "def hash_kmer(kmer, prime=31):\n",
    "    hash_value = 0\n",
    "    for char in kmer:\n",
    "        hash_value = (hash_value * prime + ord(char)) % len(sequences)\n",
    "    return hash_value"
   ]
  },
  {
   "cell_type": "code",
   "execution_count": 3,
   "id": "bd008fa3",
   "metadata": {},
   "outputs": [],
   "source": [
    "def needleman_wunsch(seq1, seq2, match_score=1, mismatch_score=-1, gap_score=-2):\n",
    "    # Needleman-Wunsch algorithm for global alignment\n",
    "    m, n = len(seq1), len(seq2)\n",
    "    dp = [[0] * (n + 1) for _ in range(m + 1)]\n",
    "\n",
    "    for i in range(1, m + 1):\n",
    "        dp[i][0] = dp[i - 1][0] + gap_score\n",
    "\n",
    "    for j in range(1, n + 1):\n",
    "        dp[0][j] = dp[0][j - 1] + gap_score\n",
    "\n",
    "    for i in range(1, m + 1):\n",
    "        for j in range(1, n + 1):\n",
    "            match = dp[i - 1][j - 1] + (match_score if seq1[i - 1] == seq2[j - 1] else mismatch_score)\n",
    "            delete = dp[i - 1][j] + gap_score\n",
    "            insert = dp[i][j - 1] + gap_score\n",
    "            dp[i][j] = max(match, delete, insert)\n",
    "\n",
    "    i, j = m, n\n",
    "    aligned_seq1 = \"\"\n",
    "    aligned_seq2 = \"\"\n",
    "\n",
    "    while i > 0 and j > 0:\n",
    "        if seq1[i - 1] == seq2[j - 1]:\n",
    "            aligned_seq1 = seq1[i - 1] + aligned_seq1\n",
    "            aligned_seq2 = seq2[j - 1] + aligned_seq2\n",
    "            i -= 1\n",
    "            j -= 1\n",
    "        elif dp[i][j] == dp[i - 1][j] + gap_score:\n",
    "            aligned_seq1 = seq1[i - 1] + aligned_seq1\n",
    "            aligned_seq2 = \"-\" + aligned_seq2\n",
    "            i -= 1\n",
    "        else:\n",
    "            aligned_seq1 = \"-\" + aligned_seq1\n",
    "            aligned_seq2 = seq2[j - 1] + aligned_seq2\n",
    "            j -= 1\n",
    "\n",
    "    while i > 0:\n",
    "        aligned_seq1 = seq1[i - 1] + aligned_seq1\n",
    "        aligned_seq2 = \"-\" + aligned_seq2\n",
    "        i -= 1\n",
    "\n",
    "    while j > 0:\n",
    "        aligned_seq1 = \"-\" + aligned_seq1\n",
    "        aligned_seq2 = seq2[j - 1] + aligned_seq2\n",
    "        j -= 1\n",
    "\n",
    "    return aligned_seq1, aligned_seq2, dp[m][n]\n"
   ]
  },
  {
   "cell_type": "code",
   "execution_count": 4,
   "id": "a5aa3a7e",
   "metadata": {},
   "outputs": [],
   "source": [
    "def find_matching_kmers(sequence, kmer_length, hash_map):\n",
    "    matching_kmers = []\n",
    "    for i in range(len(sequence) - kmer_length + 1):\n",
    "        kmer = sequence[i:i + kmer_length]\n",
    "        hash_value = hash_kmer(kmer)\n",
    "        if hash_value in hash_map:\n",
    "            matching_kmers.extend(hash_map[hash_value])\n",
    "    return matching_kmers\n"
   ]
  },
  {
   "cell_type": "code",
   "execution_count": null,
   "id": "d9c6c5df",
   "metadata": {},
   "outputs": [],
   "source": []
  },
  {
   "cell_type": "code",
   "execution_count": 5,
   "id": "5ce3d9ec",
   "metadata": {},
   "outputs": [],
   "source": [
    "fasta_file = \"fasta_file.fasta\"\n",
    "reference_sequence_id = \">NC_000016.10:176680-177522 Homo sapiens chromosome 16, GRCh38.p14 Primary Assembly\""
   ]
  },
  {
   "cell_type": "code",
   "execution_count": null,
   "id": "53e2ddf9",
   "metadata": {},
   "outputs": [],
   "source": []
  },
  {
   "cell_type": "code",
   "execution_count": 6,
   "id": "72f48510",
   "metadata": {},
   "outputs": [
    {
     "ename": "FileNotFoundError",
     "evalue": "[Errno 2] No such file or directory: 'your_fasta_file.fasta'",
     "output_type": "error",
     "traceback": [
      "\u001b[0;31m---------------------------------------------------------------------------\u001b[0m",
      "\u001b[0;31mFileNotFoundError\u001b[0m                         Traceback (most recent call last)",
      "Cell \u001b[0;32mIn[6], line 1\u001b[0m\n\u001b[0;32m----> 1\u001b[0m sequences \u001b[38;5;241m=\u001b[39m SeqIO\u001b[38;5;241m.\u001b[39mto_dict(\u001b[43mSeqIO\u001b[49m\u001b[38;5;241;43m.\u001b[39;49m\u001b[43mparse\u001b[49m\u001b[43m(\u001b[49m\u001b[43mfasta_file\u001b[49m\u001b[43m,\u001b[49m\u001b[43m \u001b[49m\u001b[38;5;124;43m\"\u001b[39;49m\u001b[38;5;124;43mfasta\u001b[39;49m\u001b[38;5;124;43m\"\u001b[39;49m\u001b[43m)\u001b[49m)\n\u001b[1;32m      3\u001b[0m reference_sequence \u001b[38;5;241m=\u001b[39m sequences\u001b[38;5;241m.\u001b[39mget(reference_sequence_id)\n\u001b[1;32m      4\u001b[0m \u001b[38;5;28;01mif\u001b[39;00m reference_sequence \u001b[38;5;129;01mis\u001b[39;00m \u001b[38;5;28;01mNone\u001b[39;00m:\n",
      "File \u001b[0;32m~/anaconda3/lib/python3.10/site-packages/Bio/SeqIO/__init__.py:605\u001b[0m, in \u001b[0;36mparse\u001b[0;34m(handle, format, alphabet)\u001b[0m\n\u001b[1;32m    603\u001b[0m iterator_generator \u001b[38;5;241m=\u001b[39m _FormatToIterator\u001b[38;5;241m.\u001b[39mget(\u001b[38;5;28mformat\u001b[39m)\n\u001b[1;32m    604\u001b[0m \u001b[38;5;28;01mif\u001b[39;00m iterator_generator:\n\u001b[0;32m--> 605\u001b[0m     \u001b[38;5;28;01mreturn\u001b[39;00m \u001b[43miterator_generator\u001b[49m\u001b[43m(\u001b[49m\u001b[43mhandle\u001b[49m\u001b[43m)\u001b[49m\n\u001b[1;32m    606\u001b[0m \u001b[38;5;28;01mif\u001b[39;00m \u001b[38;5;28mformat\u001b[39m \u001b[38;5;129;01min\u001b[39;00m AlignIO\u001b[38;5;241m.\u001b[39m_FormatToIterator:\n\u001b[1;32m    607\u001b[0m     \u001b[38;5;66;03m# Use Bio.AlignIO to read in the alignments\u001b[39;00m\n\u001b[1;32m    608\u001b[0m     \u001b[38;5;28;01mreturn\u001b[39;00m (r \u001b[38;5;28;01mfor\u001b[39;00m alignment \u001b[38;5;129;01min\u001b[39;00m AlignIO\u001b[38;5;241m.\u001b[39mparse(handle, \u001b[38;5;28mformat\u001b[39m) \u001b[38;5;28;01mfor\u001b[39;00m r \u001b[38;5;129;01min\u001b[39;00m alignment)\n",
      "File \u001b[0;32m~/anaconda3/lib/python3.10/site-packages/Bio/SeqIO/FastaIO.py:223\u001b[0m, in \u001b[0;36mFastaIterator.__init__\u001b[0;34m(self, source, alphabet, title2ids)\u001b[0m\n\u001b[1;32m    204\u001b[0m     warnings\u001b[38;5;241m.\u001b[39mwarn(\n\u001b[1;32m    205\u001b[0m         \u001b[38;5;124m\"\u001b[39m\u001b[38;5;124mThe title2ids argument is deprecated. Instead, please use a \u001b[39m\u001b[38;5;124m\"\u001b[39m\n\u001b[1;32m    206\u001b[0m         \u001b[38;5;124m\"\u001b[39m\u001b[38;5;124mgenerator function to modify records returned by the parser. \u001b[39m\u001b[38;5;124m\"\u001b[39m\n\u001b[0;32m   (...)\u001b[0m\n\u001b[1;32m    220\u001b[0m         BiopythonDeprecationWarning,\n\u001b[1;32m    221\u001b[0m     )\n\u001b[1;32m    222\u001b[0m \u001b[38;5;28mself\u001b[39m\u001b[38;5;241m.\u001b[39mtitle2ids \u001b[38;5;241m=\u001b[39m title2ids\n\u001b[0;32m--> 223\u001b[0m \u001b[38;5;28;43msuper\u001b[39;49m\u001b[43m(\u001b[49m\u001b[43m)\u001b[49m\u001b[38;5;241;43m.\u001b[39;49m\u001b[38;5;21;43m__init__\u001b[39;49m\u001b[43m(\u001b[49m\u001b[43msource\u001b[49m\u001b[43m,\u001b[49m\u001b[43m \u001b[49m\u001b[43mmode\u001b[49m\u001b[38;5;241;43m=\u001b[39;49m\u001b[38;5;124;43m\"\u001b[39;49m\u001b[38;5;124;43mt\u001b[39;49m\u001b[38;5;124;43m\"\u001b[39;49m\u001b[43m,\u001b[49m\u001b[43m \u001b[49m\u001b[43mfmt\u001b[49m\u001b[38;5;241;43m=\u001b[39;49m\u001b[38;5;124;43m\"\u001b[39;49m\u001b[38;5;124;43mFasta\u001b[39;49m\u001b[38;5;124;43m\"\u001b[39;49m\u001b[43m)\u001b[49m\n",
      "File \u001b[0;32m~/anaconda3/lib/python3.10/site-packages/Bio/SeqIO/Interfaces.py:45\u001b[0m, in \u001b[0;36mSequenceIterator.__init__\u001b[0;34m(self, source, alphabet, mode, fmt)\u001b[0m\n\u001b[1;32m     43\u001b[0m     \u001b[38;5;28;01mraise\u001b[39;00m \u001b[38;5;167;01mValueError\u001b[39;00m(\u001b[38;5;124m\"\u001b[39m\u001b[38;5;124mThe alphabet argument is no longer supported\u001b[39m\u001b[38;5;124m\"\u001b[39m)\n\u001b[1;32m     44\u001b[0m \u001b[38;5;28;01mtry\u001b[39;00m:\n\u001b[0;32m---> 45\u001b[0m     \u001b[38;5;28mself\u001b[39m\u001b[38;5;241m.\u001b[39mstream \u001b[38;5;241m=\u001b[39m \u001b[38;5;28;43mopen\u001b[39;49m\u001b[43m(\u001b[49m\u001b[43msource\u001b[49m\u001b[43m,\u001b[49m\u001b[43m \u001b[49m\u001b[38;5;124;43m\"\u001b[39;49m\u001b[38;5;124;43mr\u001b[39;49m\u001b[38;5;124;43m\"\u001b[39;49m\u001b[43m \u001b[49m\u001b[38;5;241;43m+\u001b[39;49m\u001b[43m \u001b[49m\u001b[43mmode\u001b[49m\u001b[43m)\u001b[49m\n\u001b[1;32m     46\u001b[0m     \u001b[38;5;28mself\u001b[39m\u001b[38;5;241m.\u001b[39mshould_close_stream \u001b[38;5;241m=\u001b[39m \u001b[38;5;28;01mTrue\u001b[39;00m\n\u001b[1;32m     47\u001b[0m \u001b[38;5;28;01mexcept\u001b[39;00m \u001b[38;5;167;01mTypeError\u001b[39;00m:  \u001b[38;5;66;03m# not a path, assume we received a stream\u001b[39;00m\n",
      "\u001b[0;31mFileNotFoundError\u001b[0m: [Errno 2] No such file or directory: 'your_fasta_file.fasta'"
     ]
    }
   ],
   "source": [
    "sequences = SeqIO.to_dict(SeqIO.parse(fasta_file, \"fasta\"))\n",
    "\n",
    "reference_sequence = sequences.get(reference_sequence_id)\n",
    "if reference_sequence is None:\n",
    "    print(f\"Reference sequence '{reference_sequence_id}' not found in the FASTA file.\")\n",
    "else:\n",
    "    del sequences[reference_sequence_id]\n"
   ]
  },
  {
   "cell_type": "code",
   "execution_count": null,
   "id": "fe947954",
   "metadata": {},
   "outputs": [],
   "source": [
    "kmer_length = 10\n",
    "hash_map = {}\n",
    "\n",
    "for sequence_id, sequence in sequences.items():\n",
    "    for i in range(len(sequence) - kmer_length + 1):\n",
    "        kmer = sequence[i:i + kmer_length]\n",
    "        hash_value = hash_kmer(kmer)\n",
    "        if hash_value in hash_map:\n",
    "            hash_map[hash_value].append((sequence_id, i))\n",
    "        else:\n",
    "            hash_map[hash_value] = [(sequence_id, i)]\n",
    "\n",
    "print(\"Hash mapping complete.\")\n",
    "\n",
    "matching_kmers = find_matching_kmers(reference_sequence.seq, kmer_length, hash_map)\n",
    "print(\"Matching k-mers found:\", matching_kmers)\n",
    "\n",
    "for sequence_id, _ in matching_kmers:\n",
    "    seq_to_align = sequences[sequence_id].seq\n",
    "    print(f\"Aligning reference sequence and {sequence_id}...\")\n",
    "\n",
    "    # Needleman-Wunsch alignment\n",
    "    aligned_ref_seq, aligned_seq, alignment_score = needleman_wunsch(reference_sequence.seq, seq_to_align)\n",
    "    print(\"Needleman-Wunsch Alignment Score:\", alignment_score)\n",
    "    print(\"Reference Sequence Alignment:\", aligned_ref_seq)\n",
    "    print(\"Aligned Sequence:\", aligned_seq)"
   ]
  },
  {
   "cell_type": "code",
   "execution_count": null,
   "id": "6731ffba",
   "metadata": {},
   "outputs": [],
   "source": []
  }
 ],
 "metadata": {
  "kernelspec": {
   "display_name": "Python 3 (ipykernel)",
   "language": "python",
   "name": "python3"
  },
  "language_info": {
   "codemirror_mode": {
    "name": "ipython",
    "version": 3
   },
   "file_extension": ".py",
   "mimetype": "text/x-python",
   "name": "python",
   "nbconvert_exporter": "python",
   "pygments_lexer": "ipython3",
   "version": "3.10.9"
  }
 },
 "nbformat": 4,
 "nbformat_minor": 5
}
