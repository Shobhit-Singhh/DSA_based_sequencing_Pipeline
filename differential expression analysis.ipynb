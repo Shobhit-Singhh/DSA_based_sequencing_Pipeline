{
 "cells": [
  {
   "cell_type": "code",
   "execution_count": null,
   "id": "8c27ebcf",
   "metadata": {},
   "outputs": [],
   "source": [
    "import pysam\n",
    "import pandas as pd\n",
    "import numpy as np\n",
    "from collections import defaultdict\n",
    "from rpy2.robjects import pandas2ri\n",
    "from rpy2.robjects.packages import importr"
   ]
  },
  {
   "cell_type": "code",
   "execution_count": null,
   "id": "47a66c77",
   "metadata": {},
   "outputs": [],
   "source": [
    "# Load necessary R packages\n",
    "pandas2ri.activate()\n",
    "deseq = importr(\"DESeq2\")\n",
    "\n",
    "# Paths to BAM file and gene annotation file (GTF/GFF format)\n",
    "bam_file = 'path_to_your.bam'\n",
    "annotation_file = 'path_to_your_annotation.gtf'\n"
   ]
  },
  {
   "cell_type": "code",
   "execution_count": null,
   "id": "afaf5a13",
   "metadata": {},
   "outputs": [],
   "source": [
    "# Load gene annotation into a dictionary\n",
    "gene_dict = defaultdict(list)\n",
    "with open(annotation_file, 'r') as f:\n",
    "    for line in f:\n",
    "        if line.startswith('#'):\n",
    "            continue\n",
    "        parts = line.strip().split('\\t')\n",
    "        if parts[2] == 'gene':\n",
    "            gene_id = parts[8].split(';')[0].split(' ')[1].replace('\"', '')\n",
    "            gene_name = parts[8].split(';')[1].split(' ')[2].replace('\"', '')\n",
    "            gene_dict[gene_id] = gene_name\n"
   ]
  },
  {
   "cell_type": "code",
   "execution_count": null,
   "id": "b7407009",
   "metadata": {},
   "outputs": [],
   "source": [
    "# Initialize a dictionary to store read counts per gene\n",
    "gene_read_counts = defaultdict(int)\n",
    "\n",
    "# Open the BAM file using pysam\n",
    "bam = pysam.AlignmentFile(bam_file, 'rb')\n",
    "\n",
    "# Count reads per gene\n",
    "for read in bam:\n",
    "    if read.is_unmapped:\n",
    "        continue\n",
    "    gene_id = read.get_reference_name()\n",
    "    gene_read_counts[gene_id] += 1\n"
   ]
  },
  {
   "cell_type": "code",
   "execution_count": null,
   "id": "dd951faf",
   "metadata": {},
   "outputs": [],
   "source": [
    "# Convert the read counts dictionary into a pandas DataFrame\n",
    "counts_df = pd.DataFrame(gene_read_counts.items(), columns=['GeneID', 'ReadCounts'])\n",
    "\n",
    "# Load annotation information into the DataFrame\n",
    "counts_df['GeneName'] = counts_df['GeneID'].apply(lambda x: gene_dict.get(x, 'Unknown'))"
   ]
  },
  {
   "cell_type": "code",
   "execution_count": null,
   "id": "596e28f9",
   "metadata": {},
   "outputs": [],
   "source": [
    "# Normalize counts to TPM\n",
    "total_reads = counts_df['ReadCounts'].sum()\n",
    "counts_df['TPM'] = (counts_df['ReadCounts'] / total_reads) * 1e6\n",
    "\n",
    "# Create a DESeq2-like count matrix with samples as columns and genes as rows\n",
    "count_matrix = counts_df.pivot(index='GeneName', columns='Sample', values='ReadCounts')\n",
    "\n",
    "# Perform differential expression analysis using DESeq2\n",
    "dds = deseq.DESeqDataSetFromMatrix(countData=count_matrix, colData=col_data, design=~condition)\n",
    "dds = deseq.DESeq(dds)\n",
    "results = deseq.results(dds)\n",
    "results_df = pandas2ri.ri2py(results)\n",
    "\n",
    "# Print the top differentially expressed genes\n",
    "print(results_df.head())\n"
   ]
  },
  {
   "cell_type": "code",
   "execution_count": null,
   "id": "f0624cba",
   "metadata": {},
   "outputs": [],
   "source": []
  }
 ],
 "metadata": {
  "kernelspec": {
   "display_name": "Python 3 (ipykernel)",
   "language": "python",
   "name": "python3"
  },
  "language_info": {
   "codemirror_mode": {
    "name": "ipython",
    "version": 3
   },
   "file_extension": ".py",
   "mimetype": "text/x-python",
   "name": "python",
   "nbconvert_exporter": "python",
   "pygments_lexer": "ipython3",
   "version": "3.10.9"
  }
 },
 "nbformat": 4,
 "nbformat_minor": 5
}
